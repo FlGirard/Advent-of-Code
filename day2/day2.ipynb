{
 "cells": [
  {
   "cell_type": "code",
   "execution_count": 41,
   "metadata": {},
   "outputs": [
    {
     "name": "stdout",
     "output_type": "stream",
     "text": [
      "14264\n"
     ]
    }
   ],
   "source": [
    "# Part 1\n",
    "listOfGames = open(\"day2_input.txt\", \"r\")\n",
    "score = 0\n",
    "\n",
    "def getPoint(shape):\n",
    "    if shape == 'A': return 1\n",
    "    if shape == 'B': return 2\n",
    "    if shape == 'C': return 3\n",
    "\n",
    "for game in listOfGames:\n",
    "    game = game.strip().split(\" \")\n",
    "    if game[1] == 'X': game[1] = 'A'\n",
    "    if game[1] == 'Y': game[1] = 'B'\n",
    "    if game[1] == 'Z': game[1] = 'C'\n",
    "    #Draw\n",
    "    if game[0] == game[1]: score += getPoint(game[1]) + 3\n",
    "    #Wins\n",
    "    elif game[1] == 'A' and game[0] == 'C': score += getPoint(game[1]) + 6\n",
    "    elif game[1] == 'B' and game[0] == 'A': score += getPoint(game[1]) + 6\n",
    "    elif game[1] == 'C' and game[0] == 'B': score += getPoint(game[1]) + 6\n",
    "    #Lose\n",
    "    else: score += getPoint(game[1])\n",
    "\n",
    "print(score)\n"
   ]
  },
  {
   "cell_type": "code",
   "execution_count": 43,
   "metadata": {},
   "outputs": [
    {
     "name": "stdout",
     "output_type": "stream",
     "text": [
      "12382\n"
     ]
    }
   ],
   "source": [
    "# Part 2\n",
    "listOfGames = open(\"day2_input.txt\", \"r\")\n",
    "score = 0\n",
    "\n",
    "def getPoint(shape):\n",
    "    if shape == 'A': return 1\n",
    "    if shape == 'B': return 2\n",
    "    if shape == 'C': return 3\n",
    "\n",
    "for game in listOfGames:\n",
    "    game = game.strip().split(\" \")\n",
    "    #Draw\n",
    "    if game[1] == \"Y\": score += getPoint(game[0]) + 3\n",
    "    #Wins\n",
    "    if game[1] == \"Z\":\n",
    "        if game[0] == 'A': score += getPoint(\"B\") + 6\n",
    "        elif game[0] == 'B': score += getPoint(\"C\") + 6\n",
    "        elif game[0] == 'C': score += getPoint(\"A\") + 6\n",
    "    #Lose\n",
    "    if game[1] == \"X\":\n",
    "        if game[0] == 'A': score += getPoint(\"C\")\n",
    "        elif game[0] == 'B': score += getPoint(\"A\")\n",
    "        elif game[0] == 'C': score += getPoint(\"B\")\n",
    "\n",
    "print(score)"
   ]
  }
 ],
 "metadata": {
  "kernelspec": {
   "display_name": "Python 3.11.0 64-bit",
   "language": "python",
   "name": "python3"
  },
  "language_info": {
   "codemirror_mode": {
    "name": "ipython",
    "version": 3
   },
   "file_extension": ".py",
   "mimetype": "text/x-python",
   "name": "python",
   "nbconvert_exporter": "python",
   "pygments_lexer": "ipython3",
   "version": "3.11.0"
  },
  "orig_nbformat": 4,
  "vscode": {
   "interpreter": {
    "hash": "aee8b7b246df8f9039afb4144a1f6fd8d2ca17a180786b69acc140d282b71a49"
   }
  }
 },
 "nbformat": 4,
 "nbformat_minor": 2
}
