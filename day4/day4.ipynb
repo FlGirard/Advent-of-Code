{
 "cells": [
  {
   "cell_type": "code",
   "execution_count": 26,
   "metadata": {},
   "outputs": [
    {
     "name": "stdout",
     "output_type": "stream",
     "text": [
      "['21-81,20-96', '14-80,14-79', '87-89,7-88', '82-93,44-82', '61-93,62-86', '80-94,4-80', '66-90,89-91', '9-70,10-10', '95-97,26-96', '82-87,61-88']\n"
     ]
    }
   ],
   "source": [
    "# Part 1\n",
    "with open(\"day4_input.txt\", \"r\") as file:\n",
    "    input = file.read().splitlines()\n",
    "\n",
    "print(input[0:10])\n"
   ]
  },
  {
   "cell_type": "code",
   "execution_count": 23,
   "metadata": {},
   "outputs": [
    {
     "name": "stdout",
     "output_type": "stream",
     "text": [
      "511\n"
     ]
    }
   ],
   "source": [
    "nbOfPairs = 0\n",
    "\n",
    "for item in input:\n",
    "    #print(item)\n",
    "    tasks = item.split(',')\n",
    "    elve1 = list(map(int,tasks[0].split('-'))) # Map convertit les strings en int, puis list convertit l'object map en list\n",
    "    elve2 = list(map(int,tasks[1].split('-')))\n",
    "    if (elve1[0] <= elve2[0] and elve1[1] >= elve2[1]) or (elve2[0] <= elve1[0] and elve2[1] >= elve1[1]):\n",
    "        nbOfPairs = nbOfPairs + 1\n",
    "        #print(tasks, elve1[0], elve1[1], elve2[0], elve2[1])\n",
    "\n",
    "print(nbOfPairs)"
   ]
  },
  {
   "cell_type": "code",
   "execution_count": 33,
   "metadata": {},
   "outputs": [
    {
     "name": "stdout",
     "output_type": "stream",
     "text": [
      "821\n"
     ]
    }
   ],
   "source": [
    "# Part 2\n",
    "nbOfPairs = 0\n",
    "\n",
    "for item in input:\n",
    "    #print(item)\n",
    "    tasks = item.split(',')\n",
    "    elve1 = list(map(int,tasks[0].split('-')))\n",
    "    elve2 = list(map(int,tasks[1].split('-')))\n",
    "    if (elve1[0] <= elve2[0] <= elve1[1]) or (elve1[0] <= elve2[1] <= elve1[1]) \\\n",
    "      or (elve2[0] <= elve1[1] <= elve2[1]) or (elve2[0] <= elve1[0] <= elve2[1]):\n",
    "        nbOfPairs = nbOfPairs + 1\n",
    "        #print(tasks, elve1[0], elve1[1], elve2[0], elve2[1])\n",
    "\n",
    "print(nbOfPairs)"
   ]
  }
 ],
 "metadata": {
  "kernelspec": {
   "display_name": "Python 3.11.0 64-bit",
   "language": "python",
   "name": "python3"
  },
  "language_info": {
   "codemirror_mode": {
    "name": "ipython",
    "version": 3
   },
   "file_extension": ".py",
   "mimetype": "text/x-python",
   "name": "python",
   "nbconvert_exporter": "python",
   "pygments_lexer": "ipython3",
   "version": "3.11.0"
  },
  "orig_nbformat": 4,
  "vscode": {
   "interpreter": {
    "hash": "aee8b7b246df8f9039afb4144a1f6fd8d2ca17a180786b69acc140d282b71a49"
   }
  }
 },
 "nbformat": 4,
 "nbformat_minor": 2
}
