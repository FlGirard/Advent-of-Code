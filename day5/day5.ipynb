{
 "cells": [
  {
   "cell_type": "code",
   "execution_count": 300,
   "metadata": {},
   "outputs": [
    {
     "name": "stdout",
     "output_type": "stream",
     "text": [
      "['            [C]         [N] [R]    ', '[J] [T]     [H]         [P] [L]    ', '[F] [S] [T] [B]         [M] [D]    ', '[C] [L] [J] [Z] [S]     [L] [B]    ', '[N] [Q] [G] [J] [J]     [F] [F] [R]', '[D] [V] [B] [L] [B] [Q] [D] [M] [T]', '[B] [Z] [Z] [T] [V] [S] [V] [S] [D]', '[W] [P] [P] [D] [G] [P] [B] [P] [V]', ' 1   2   3   4   5   6   7   8   9 ', '']\n"
     ]
    }
   ],
   "source": [
    "# Part 1\n",
    "with open(\"day5_input.txt\", \"r\") as file:\n",
    "    input = file.read().splitlines()\n",
    "\n",
    "print(input[0:10])\n"
   ]
  },
  {
   "cell_type": "code",
   "execution_count": 301,
   "metadata": {},
   "outputs": [
    {
     "name": "stdout",
     "output_type": "stream",
     "text": [
      "['            [C]         [N] [R]    ', '[J] [T]     [H]         [P] [L]    ', '[F] [S] [T] [B]         [M] [D]    ', '[C] [L] [J] [Z] [S]     [L] [B]    ', '[N] [Q] [G] [J] [J]     [F] [F] [R]', '[D] [V] [B] [L] [B] [Q] [D] [M] [T]', '[B] [Z] [Z] [T] [V] [S] [V] [S] [D]', '[W] [P] [P] [D] [G] [P] [B] [P] [V]']\n",
      "['move 4 from 9 to 6', 'move 7 from 2 to 5', 'move 3 from 5 to 2', 'move 2 from 2 to 1', 'move 2 from 8 to 4', 'move 1 from 6 to 9', 'move 1 from 9 to 4', 'move 7 from 1 to 2', 'move 5 from 2 to 3', 'move 5 from 7 to 4']\n"
     ]
    }
   ],
   "source": [
    "#Split cargo and instructions\n",
    "\n",
    "input_cargo = input[0:8]\n",
    "input_instruction = input[10::]\n",
    "print(input_cargo[0:10])\n",
    "print(input_instruction[0:10])\n"
   ]
  },
  {
   "cell_type": "code",
   "execution_count": 302,
   "metadata": {},
   "outputs": [
    {
     "name": "stdout",
     "output_type": "stream",
     "text": [
      "[W] [P] [P] [D] [G] [P] [B] [P] [V]\n",
      "[B] [Z] [Z] [T] [V] [S] [V] [S] [D]\n",
      "[D] [V] [B] [L] [B] [Q] [D] [M] [T]\n",
      "[N] [Q] [G] [J] [J]     [F] [F] [R]\n",
      "[C] [L] [J] [Z] [S]     [L] [B]    \n",
      "[F] [S] [T] [B]         [M] [D]    \n",
      "[J] [T]     [H]         [P] [L]    \n",
      "            [C]         [N] [R]    \n",
      "cargo {1: ['W', 'B', 'D', 'N', 'C', 'F', 'J'], 2: ['P', 'Z', 'V', 'Q', 'L', 'S', 'T'], 3: ['P', 'Z', 'B', 'G', 'J', 'T'], 4: ['D', 'T', 'L', 'J', 'Z', 'B', 'H', 'C'], 5: ['G', 'V', 'B', 'J', 'S'], 6: ['P', 'S', 'Q'], 7: ['B', 'V', 'D', 'F', 'L', 'M', 'P', 'N'], 8: ['P', 'S', 'M', 'F', 'B', 'D', 'L', 'R'], 9: ['V', 'D', 'T', 'R']}\n"
     ]
    }
   ],
   "source": [
    "#Initiate the cargo variable with the content of each stack\n",
    "\n",
    "cargo = {}\n",
    "for i in range(9):\n",
    "    cargo[i+1] = []\n",
    "\n",
    "for stack in input_cargo[::-1]:\n",
    "    print(stack)\n",
    "\n",
    "for stack in input_cargo[::-1]:\n",
    "    #Get the letter for each container\n",
    "    for i in range(9):\n",
    "        if stack[1+4*i] != ' ': cargo[i+1].append(stack[1+4*i])\n",
    "\n",
    "print(\"cargo\", cargo)"
   ]
  },
  {
   "cell_type": "code",
   "execution_count": 303,
   "metadata": {},
   "outputs": [],
   "source": [
    "#Copy of cargo for part2\n",
    "import copy\n",
    "cargo2 = copy.deepcopy(cargo)"
   ]
  },
  {
   "cell_type": "code",
   "execution_count": 304,
   "metadata": {},
   "outputs": [
    {
     "name": "stdout",
     "output_type": "stream",
     "text": [
      "instructions [[4, 9, 6], [7, 2, 5], [3, 5, 2], [2, 2, 1], [2, 8, 4], [1, 6, 9], [1, 9, 4], [7, 1, 2], [5, 2, 3], [5, 7, 4]]\n"
     ]
    }
   ],
   "source": [
    "#Get the list of instructions\n",
    "\n",
    "instructions = []\n",
    "\n",
    "for line in input_instruction:\n",
    "    instructions.append([int(line.split()[1]),int(line.split()[3]),int(line.split()[5])])\n",
    "\n",
    "print(\"instructions\", instructions[0:10])"
   ]
  },
  {
   "cell_type": "code",
   "execution_count": 305,
   "metadata": {},
   "outputs": [],
   "source": [
    "#Process Instructions\n",
    "\n",
    "for instruction in instructions:\n",
    "    toMove = cargo[instruction[1]][-instruction[0]::]\n",
    "    #print(toMove, toMove[::-1])\n",
    "    for i in toMove[::-1]:\n",
    "        cargo[instruction[2]].append(i)\n",
    "        cargo[instruction[1]].pop()\n",
    "        \n",
    "    #print(\"instruction\", instruction, cargo)\n"
   ]
  },
  {
   "cell_type": "code",
   "execution_count": 306,
   "metadata": {},
   "outputs": [
    {
     "name": "stdout",
     "output_type": "stream",
     "text": [
      "['L']\n",
      "['B']\n",
      "['L']\n",
      "['V']\n",
      "['V']\n",
      "['T']\n",
      "['V']\n",
      "['L']\n",
      "['P']\n"
     ]
    }
   ],
   "source": [
    "for i in range(9):\n",
    "    print(cargo[i+1][-1::])\n",
    "#Good answer: LBLVVTVLP"
   ]
  },
  {
   "cell_type": "code",
   "execution_count": 307,
   "metadata": {},
   "outputs": [],
   "source": [
    "#Process Instructions part2\n",
    "\n",
    "for instruction in instructions:\n",
    "    toMove = cargo2[instruction[1]][-instruction[0]::]\n",
    "    #print(toMove, toMove[::-1])\n",
    "    for i in toMove:\n",
    "        cargo2[instruction[2]].append(i)\n",
    "        cargo2[instruction[1]].pop()\n",
    "        \n",
    "    #print(\"instruction\", instruction, cargo2)"
   ]
  },
  {
   "cell_type": "code",
   "execution_count": 308,
   "metadata": {},
   "outputs": [
    {
     "name": "stdout",
     "output_type": "stream",
     "text": [
      "['T']\n",
      "['P']\n",
      "['F']\n",
      "['F']\n",
      "['B']\n",
      "['D']\n",
      "['R']\n",
      "['J']\n",
      "['D']\n"
     ]
    }
   ],
   "source": [
    "for i in range(9):\n",
    "    print(cargo2[i+1][-1::])\n",
    "#Good answer: TPFFBDRJD"
   ]
  }
 ],
 "metadata": {
  "kernelspec": {
   "display_name": "Python 3.11.0 64-bit",
   "language": "python",
   "name": "python3"
  },
  "language_info": {
   "codemirror_mode": {
    "name": "ipython",
    "version": 3
   },
   "file_extension": ".py",
   "mimetype": "text/x-python",
   "name": "python",
   "nbconvert_exporter": "python",
   "pygments_lexer": "ipython3",
   "version": "3.11.0"
  },
  "orig_nbformat": 4,
  "vscode": {
   "interpreter": {
    "hash": "aee8b7b246df8f9039afb4144a1f6fd8d2ca17a180786b69acc140d282b71a49"
   }
  }
 },
 "nbformat": 4,
 "nbformat_minor": 2
}
